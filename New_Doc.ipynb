{
  "nbformat": 4,
  "nbformat_minor": 0,
  "metadata": {
    "colab": {
      "provenance": [],
      "authorship_tag": "ABX9TyNQO78gAM8yOYXf1z81SPqe",
      "include_colab_link": true
    },
    "kernelspec": {
      "name": "ir",
      "display_name": "R"
    },
    "language_info": {
      "name": "R"
    }
  },
  "cells": [
    {
      "cell_type": "markdown",
      "metadata": {
        "id": "view-in-github",
        "colab_type": "text"
      },
      "source": [
        "<a href=\"https://colab.research.google.com/github/ahughen-dcs/datascience-box/blob/main/New_Doc.ipynb\" target=\"_parent\"><img src=\"https://colab.research.google.com/assets/colab-badge.svg\" alt=\"Open In Colab\"/></a>"
      ]
    },
    {
      "cell_type": "code",
      "execution_count": null,
      "metadata": {
        "colab": {
          "base_uri": "https://localhost:8080/"
        },
        "id": "PO0QQ2nptc4B",
        "outputId": "dfb0ff03-90f9-450b-f1f1-fc4add571ba5"
      },
      "outputs": [
        {
          "output_type": "stream",
          "name": "stderr",
          "text": [
            "Warning message in system(\"timedatectl\", intern = TRUE):\n",
            "“running command 'timedatectl' had status 1”\n",
            "── \u001b[1mAttaching packages\u001b[22m ─────────────────────────────────────── tidyverse 1.3.1 ──\n",
            "\n",
            "\u001b[32m✔\u001b[39m \u001b[34mggplot2\u001b[39m 3.3.6      \u001b[32m✔\u001b[39m \u001b[34mpurrr  \u001b[39m 0.3.4 \n",
            "\u001b[32m✔\u001b[39m \u001b[34mtibble \u001b[39m 3.1.7      \u001b[32m✔\u001b[39m \u001b[34mdplyr  \u001b[39m 1.0.10\n",
            "\u001b[32m✔\u001b[39m \u001b[34mtidyr  \u001b[39m 1.2.0      \u001b[32m✔\u001b[39m \u001b[34mstringr\u001b[39m 1.4.1 \n",
            "\u001b[32m✔\u001b[39m \u001b[34mreadr  \u001b[39m 2.1.2      \u001b[32m✔\u001b[39m \u001b[34mforcats\u001b[39m 0.5.2 \n",
            "\n",
            "── \u001b[1mConflicts\u001b[22m ────────────────────────────────────────── tidyverse_conflicts() ──\n",
            "\u001b[31m✖\u001b[39m \u001b[34mdplyr\u001b[39m::\u001b[32mfilter()\u001b[39m masks \u001b[34mstats\u001b[39m::filter()\n",
            "\u001b[31m✖\u001b[39m \u001b[34mdplyr\u001b[39m::\u001b[32mlag()\u001b[39m    masks \u001b[34mstats\u001b[39m::lag()\n",
            "\n"
          ]
        }
      ],
      "source": [
        "library(tidyverse)"
      ]
    },
    {
      "cell_type": "code",
      "source": [
        "install.packages(\"openintro\")"
      ],
      "metadata": {
        "colab": {
          "base_uri": "https://localhost:8080/"
        },
        "id": "oGCM2zbutmbe",
        "outputId": "8b16808c-5d09-4a49-cd2c-3c77cbaff1e1"
      },
      "execution_count": null,
      "outputs": [
        {
          "output_type": "stream",
          "name": "stderr",
          "text": [
            "Installing package into ‘/usr/local/lib/R/site-library’\n",
            "(as ‘lib’ is unspecified)\n",
            "\n",
            "also installing the dependencies ‘airports’, ‘cherryblossom’, ‘usdata’\n",
            "\n",
            "\n"
          ]
        }
      ]
    },
    {
      "cell_type": "code",
      "source": [
        "count(seattlepets)"
      ],
      "metadata": {
        "colab": {
          "base_uri": "https://localhost:8080/",
          "height": 147
        },
        "id": "EjvB1pj7wDPh",
        "outputId": "5b5c3ad6-1560-4432-e504-9539b1eecf54"
      },
      "execution_count": null,
      "outputs": [
        {
          "output_type": "display_data",
          "data": {
            "text/html": [
              "<table class=\"dataframe\">\n",
              "<caption>A tibble: 1 × 1</caption>\n",
              "<thead>\n",
              "\t<tr><th scope=col>n</th></tr>\n",
              "\t<tr><th scope=col>&lt;int&gt;</th></tr>\n",
              "</thead>\n",
              "<tbody>\n",
              "\t<tr><td>52519</td></tr>\n",
              "</tbody>\n",
              "</table>\n"
            ],
            "text/markdown": "\nA tibble: 1 × 1\n\n| n &lt;int&gt; |\n|---|\n| 52519 |\n\n",
            "text/latex": "A tibble: 1 × 1\n\\begin{tabular}{l}\n n\\\\\n <int>\\\\\n\\hline\n\t 52519\\\\\n\\end{tabular}\n",
            "text/plain": [
              "  n    \n",
              "1 52519"
            ]
          },
          "metadata": {}
        }
      ]
    },
    {
      "cell_type": "code",
      "source": [
        "head(seattlepets)"
      ],
      "metadata": {
        "colab": {
          "base_uri": "https://localhost:8080/",
          "height": 286
        },
        "id": "Fe3Q2XnZwRuA",
        "outputId": "f733de65-7a81-473b-d01a-5652693c45e8"
      },
      "execution_count": null,
      "outputs": [
        {
          "output_type": "display_data",
          "data": {
            "text/html": [
              "<table class=\"dataframe\">\n",
              "<caption>A tibble: 6 × 7</caption>\n",
              "<thead>\n",
              "\t<tr><th scope=col>license_issue_date</th><th scope=col>license_number</th><th scope=col>animal_name</th><th scope=col>species</th><th scope=col>primary_breed</th><th scope=col>secondary_breed</th><th scope=col>zip_code</th></tr>\n",
              "\t<tr><th scope=col>&lt;date&gt;</th><th scope=col>&lt;chr&gt;</th><th scope=col>&lt;chr&gt;</th><th scope=col>&lt;chr&gt;</th><th scope=col>&lt;chr&gt;</th><th scope=col>&lt;chr&gt;</th><th scope=col>&lt;chr&gt;</th></tr>\n",
              "</thead>\n",
              "<tbody>\n",
              "\t<tr><td>2018-11-16</td><td>8002756</td><td>Wall-E    </td><td>Dog</td><td>Mixed Breed, Medium (up to 44 lbs fully grown)</td><td>Mix                            </td><td>98108</td></tr>\n",
              "\t<tr><td>2018-11-11</td><td>S124529</td><td>Andre     </td><td>Dog</td><td>Terrier, Jack Russell                         </td><td>Dachshund, Standard Wire Haired</td><td>98117</td></tr>\n",
              "\t<tr><td>2018-11-21</td><td>903793 </td><td>Mac       </td><td>Dog</td><td>Retriever, Labrador                           </td><td>NA                             </td><td>98136</td></tr>\n",
              "\t<tr><td>2018-11-23</td><td>824666 </td><td>Melb      </td><td>Cat</td><td>Domestic Shorthair                            </td><td>NA                             </td><td>98117</td></tr>\n",
              "\t<tr><td>2018-12-30</td><td>S119138</td><td>Gingersnap</td><td>Cat</td><td>Domestic Shorthair                            </td><td>Mix                            </td><td>98144</td></tr>\n",
              "\t<tr><td>2018-12-16</td><td>S138529</td><td>Cody      </td><td>Dog</td><td>Retriever, Labrador                           </td><td>NA                             </td><td>98103</td></tr>\n",
              "</tbody>\n",
              "</table>\n"
            ],
            "text/markdown": "\nA tibble: 6 × 7\n\n| license_issue_date &lt;date&gt; | license_number &lt;chr&gt; | animal_name &lt;chr&gt; | species &lt;chr&gt; | primary_breed &lt;chr&gt; | secondary_breed &lt;chr&gt; | zip_code &lt;chr&gt; |\n|---|---|---|---|---|---|---|\n| 2018-11-16 | 8002756 | Wall-E     | Dog | Mixed Breed, Medium (up to 44 lbs fully grown) | Mix                             | 98108 |\n| 2018-11-11 | S124529 | Andre      | Dog | Terrier, Jack Russell                          | Dachshund, Standard Wire Haired | 98117 |\n| 2018-11-21 | 903793  | Mac        | Dog | Retriever, Labrador                            | NA                              | 98136 |\n| 2018-11-23 | 824666  | Melb       | Cat | Domestic Shorthair                             | NA                              | 98117 |\n| 2018-12-30 | S119138 | Gingersnap | Cat | Domestic Shorthair                             | Mix                             | 98144 |\n| 2018-12-16 | S138529 | Cody       | Dog | Retriever, Labrador                            | NA                              | 98103 |\n\n",
            "text/latex": "A tibble: 6 × 7\n\\begin{tabular}{lllllll}\n license\\_issue\\_date & license\\_number & animal\\_name & species & primary\\_breed & secondary\\_breed & zip\\_code\\\\\n <date> & <chr> & <chr> & <chr> & <chr> & <chr> & <chr>\\\\\n\\hline\n\t 2018-11-16 & 8002756 & Wall-E     & Dog & Mixed Breed, Medium (up to 44 lbs fully grown) & Mix                             & 98108\\\\\n\t 2018-11-11 & S124529 & Andre      & Dog & Terrier, Jack Russell                          & Dachshund, Standard Wire Haired & 98117\\\\\n\t 2018-11-21 & 903793  & Mac        & Dog & Retriever, Labrador                            & NA                              & 98136\\\\\n\t 2018-11-23 & 824666  & Melb       & Cat & Domestic Shorthair                             & NA                              & 98117\\\\\n\t 2018-12-30 & S119138 & Gingersnap & Cat & Domestic Shorthair                             & Mix                             & 98144\\\\\n\t 2018-12-16 & S138529 & Cody       & Dog & Retriever, Labrador                            & NA                              & 98103\\\\\n\\end{tabular}\n",
            "text/plain": [
              "  license_issue_date license_number animal_name species\n",
              "1 2018-11-16         8002756        Wall-E      Dog    \n",
              "2 2018-11-11         S124529        Andre       Dog    \n",
              "3 2018-11-21         903793         Mac         Dog    \n",
              "4 2018-11-23         824666         Melb        Cat    \n",
              "5 2018-12-30         S119138        Gingersnap  Cat    \n",
              "6 2018-12-16         S138529        Cody        Dog    \n",
              "  primary_breed                                 \n",
              "1 Mixed Breed, Medium (up to 44 lbs fully grown)\n",
              "2 Terrier, Jack Russell                         \n",
              "3 Retriever, Labrador                           \n",
              "4 Domestic Shorthair                            \n",
              "5 Domestic Shorthair                            \n",
              "6 Retriever, Labrador                           \n",
              "  secondary_breed                 zip_code\n",
              "1 Mix                             98108   \n",
              "2 Dachshund, Standard Wire Haired 98117   \n",
              "3 NA                              98136   \n",
              "4 NA                              98117   \n",
              "5 Mix                             98144   \n",
              "6 NA                              98103   "
            ]
          },
          "metadata": {}
        }
      ]
    },
    {
      "cell_type": "code",
      "source": [
        "seattlepets %>%\n",
        "  count(animal_name, sort = TRUE)\n"
      ],
      "metadata": {
        "colab": {
          "base_uri": "https://localhost:8080/",
          "height": 1000
        },
        "id": "XnTkQuU4w6L8",
        "outputId": "7aacb76f-9394-4e1a-8cd1-a5df646ac084"
      },
      "execution_count": null,
      "outputs": [
        {
          "output_type": "display_data",
          "data": {
            "text/html": [
              "<table class=\"dataframe\">\n",
              "<caption>A tibble: 13930 × 2</caption>\n",
              "<thead>\n",
              "\t<tr><th scope=col>animal_name</th><th scope=col>n</th></tr>\n",
              "\t<tr><th scope=col>&lt;chr&gt;</th><th scope=col>&lt;int&gt;</th></tr>\n",
              "</thead>\n",
              "<tbody>\n",
              "\t<tr><td>NA     </td><td>483</td></tr>\n",
              "\t<tr><td>Lucy   </td><td>439</td></tr>\n",
              "\t<tr><td>Charlie</td><td>387</td></tr>\n",
              "\t<tr><td>Luna   </td><td>355</td></tr>\n",
              "\t<tr><td>Bella  </td><td>331</td></tr>\n",
              "\t<tr><td>Max    </td><td>270</td></tr>\n",
              "\t<tr><td>Daisy  </td><td>261</td></tr>\n",
              "\t<tr><td>Molly  </td><td>240</td></tr>\n",
              "\t<tr><td>Jack   </td><td>232</td></tr>\n",
              "\t<tr><td>Lily   </td><td>232</td></tr>\n",
              "\t<tr><td>Stella </td><td>227</td></tr>\n",
              "\t<tr><td>Lola   </td><td>225</td></tr>\n",
              "\t<tr><td>Buddy  </td><td>218</td></tr>\n",
              "\t<tr><td>Sophie </td><td>211</td></tr>\n",
              "\t<tr><td>Oliver </td><td>210</td></tr>\n",
              "\t<tr><td>Cooper </td><td>205</td></tr>\n",
              "\t<tr><td>Maggie </td><td>201</td></tr>\n",
              "\t<tr><td>Penny  </td><td>193</td></tr>\n",
              "\t<tr><td>Ruby   </td><td>187</td></tr>\n",
              "\t<tr><td>Sadie  </td><td>178</td></tr>\n",
              "\t<tr><td>Chloe  </td><td>173</td></tr>\n",
              "\t<tr><td>Milo   </td><td>172</td></tr>\n",
              "\t<tr><td>Henry  </td><td>169</td></tr>\n",
              "\t<tr><td>Rosie  </td><td>169</td></tr>\n",
              "\t<tr><td>Pepper </td><td>164</td></tr>\n",
              "\t<tr><td>Olive  </td><td>158</td></tr>\n",
              "\t<tr><td>Bailey </td><td>157</td></tr>\n",
              "\t<tr><td>Scout  </td><td>153</td></tr>\n",
              "\t<tr><td>Leo    </td><td>150</td></tr>\n",
              "\t<tr><td>Zoe    </td><td>149</td></tr>\n",
              "\t<tr><td>⋮</td><td>⋮</td></tr>\n",
              "\t<tr><td>Zou Zou              </td><td>1</td></tr>\n",
              "\t<tr><td>Zozo                 </td><td>1</td></tr>\n",
              "\t<tr><td>Zsa Zsa Gabor        </td><td>1</td></tr>\n",
              "\t<tr><td>Zsa-Zsa              </td><td>1</td></tr>\n",
              "\t<tr><td>Zsebi                </td><td>1</td></tr>\n",
              "\t<tr><td>Zsiga                </td><td>1</td></tr>\n",
              "\t<tr><td>Zsuska               </td><td>1</td></tr>\n",
              "\t<tr><td>Zu-Zu                </td><td>1</td></tr>\n",
              "\t<tr><td>Zubie                </td><td>1</td></tr>\n",
              "\t<tr><td>Zug Zug              </td><td>1</td></tr>\n",
              "\t<tr><td>Zuka                 </td><td>1</td></tr>\n",
              "\t<tr><td>Zukari               </td><td>1</td></tr>\n",
              "\t<tr><td>Zuki                 </td><td>1</td></tr>\n",
              "\t<tr><td>Zuko Lee             </td><td>1</td></tr>\n",
              "\t<tr><td>Zuky                 </td><td>1</td></tr>\n",
              "\t<tr><td>Zule                 </td><td>1</td></tr>\n",
              "\t<tr><td>Zuli                 </td><td>1</td></tr>\n",
              "\t<tr><td>Zumi                 </td><td>1</td></tr>\n",
              "\t<tr><td>Zuna                 </td><td>1</td></tr>\n",
              "\t<tr><td>Zungi                </td><td>1</td></tr>\n",
              "\t<tr><td>Zunino               </td><td>1</td></tr>\n",
              "\t<tr><td>Zunni                </td><td>1</td></tr>\n",
              "\t<tr><td>Zura                 </td><td>1</td></tr>\n",
              "\t<tr><td>Zurie                </td><td>1</td></tr>\n",
              "\t<tr><td>Zusa                 </td><td>1</td></tr>\n",
              "\t<tr><td>Zuul                 </td><td>1</td></tr>\n",
              "\t<tr><td>ZuZu                 </td><td>1</td></tr>\n",
              "\t<tr><td>Zuzu Petals Voortella</td><td>1</td></tr>\n",
              "\t<tr><td>Zydeco               </td><td>1</td></tr>\n",
              "\t<tr><td>Zydeco Bleu          </td><td>1</td></tr>\n",
              "</tbody>\n",
              "</table>\n"
            ],
            "text/markdown": "\nA tibble: 13930 × 2\n\n| animal_name &lt;chr&gt; | n &lt;int&gt; |\n|---|---|\n| NA      | 483 |\n| Lucy    | 439 |\n| Charlie | 387 |\n| Luna    | 355 |\n| Bella   | 331 |\n| Max     | 270 |\n| Daisy   | 261 |\n| Molly   | 240 |\n| Jack    | 232 |\n| Lily    | 232 |\n| Stella  | 227 |\n| Lola    | 225 |\n| Buddy   | 218 |\n| Sophie  | 211 |\n| Oliver  | 210 |\n| Cooper  | 205 |\n| Maggie  | 201 |\n| Penny   | 193 |\n| Ruby    | 187 |\n| Sadie   | 178 |\n| Chloe   | 173 |\n| Milo    | 172 |\n| Henry   | 169 |\n| Rosie   | 169 |\n| Pepper  | 164 |\n| Olive   | 158 |\n| Bailey  | 157 |\n| Scout   | 153 |\n| Leo     | 150 |\n| Zoe     | 149 |\n| ⋮ | ⋮ |\n| Zou Zou               | 1 |\n| Zozo                  | 1 |\n| Zsa Zsa Gabor         | 1 |\n| Zsa-Zsa               | 1 |\n| Zsebi                 | 1 |\n| Zsiga                 | 1 |\n| Zsuska                | 1 |\n| Zu-Zu                 | 1 |\n| Zubie                 | 1 |\n| Zug Zug               | 1 |\n| Zuka                  | 1 |\n| Zukari                | 1 |\n| Zuki                  | 1 |\n| Zuko Lee              | 1 |\n| Zuky                  | 1 |\n| Zule                  | 1 |\n| Zuli                  | 1 |\n| Zumi                  | 1 |\n| Zuna                  | 1 |\n| Zungi                 | 1 |\n| Zunino                | 1 |\n| Zunni                 | 1 |\n| Zura                  | 1 |\n| Zurie                 | 1 |\n| Zusa                  | 1 |\n| Zuul                  | 1 |\n| ZuZu                  | 1 |\n| Zuzu Petals Voortella | 1 |\n| Zydeco                | 1 |\n| Zydeco Bleu           | 1 |\n\n",
            "text/latex": "A tibble: 13930 × 2\n\\begin{tabular}{ll}\n animal\\_name & n\\\\\n <chr> & <int>\\\\\n\\hline\n\t NA      & 483\\\\\n\t Lucy    & 439\\\\\n\t Charlie & 387\\\\\n\t Luna    & 355\\\\\n\t Bella   & 331\\\\\n\t Max     & 270\\\\\n\t Daisy   & 261\\\\\n\t Molly   & 240\\\\\n\t Jack    & 232\\\\\n\t Lily    & 232\\\\\n\t Stella  & 227\\\\\n\t Lola    & 225\\\\\n\t Buddy   & 218\\\\\n\t Sophie  & 211\\\\\n\t Oliver  & 210\\\\\n\t Cooper  & 205\\\\\n\t Maggie  & 201\\\\\n\t Penny   & 193\\\\\n\t Ruby    & 187\\\\\n\t Sadie   & 178\\\\\n\t Chloe   & 173\\\\\n\t Milo    & 172\\\\\n\t Henry   & 169\\\\\n\t Rosie   & 169\\\\\n\t Pepper  & 164\\\\\n\t Olive   & 158\\\\\n\t Bailey  & 157\\\\\n\t Scout   & 153\\\\\n\t Leo     & 150\\\\\n\t Zoe     & 149\\\\\n\t ⋮ & ⋮\\\\\n\t Zou Zou               & 1\\\\\n\t Zozo                  & 1\\\\\n\t Zsa Zsa Gabor         & 1\\\\\n\t Zsa-Zsa               & 1\\\\\n\t Zsebi                 & 1\\\\\n\t Zsiga                 & 1\\\\\n\t Zsuska                & 1\\\\\n\t Zu-Zu                 & 1\\\\\n\t Zubie                 & 1\\\\\n\t Zug Zug               & 1\\\\\n\t Zuka                  & 1\\\\\n\t Zukari                & 1\\\\\n\t Zuki                  & 1\\\\\n\t Zuko Lee              & 1\\\\\n\t Zuky                  & 1\\\\\n\t Zule                  & 1\\\\\n\t Zuli                  & 1\\\\\n\t Zumi                  & 1\\\\\n\t Zuna                  & 1\\\\\n\t Zungi                 & 1\\\\\n\t Zunino                & 1\\\\\n\t Zunni                 & 1\\\\\n\t Zura                  & 1\\\\\n\t Zurie                 & 1\\\\\n\t Zusa                  & 1\\\\\n\t Zuul                  & 1\\\\\n\t ZuZu                  & 1\\\\\n\t Zuzu Petals Voortella & 1\\\\\n\t Zydeco                & 1\\\\\n\t Zydeco Bleu           & 1\\\\\n\\end{tabular}\n",
            "text/plain": [
              "      animal_name           n  \n",
              "1     NA                    483\n",
              "2     Lucy                  439\n",
              "3     Charlie               387\n",
              "4     Luna                  355\n",
              "5     Bella                 331\n",
              "6     Max                   270\n",
              "7     Daisy                 261\n",
              "8     Molly                 240\n",
              "9     Jack                  232\n",
              "10    Lily                  232\n",
              "11    Stella                227\n",
              "12    Lola                  225\n",
              "13    Buddy                 218\n",
              "14    Sophie                211\n",
              "15    Oliver                210\n",
              "16    Cooper                205\n",
              "17    Maggie                201\n",
              "18    Penny                 193\n",
              "19    Ruby                  187\n",
              "20    Sadie                 178\n",
              "21    Chloe                 173\n",
              "22    Milo                  172\n",
              "23    Henry                 169\n",
              "24    Rosie                 169\n",
              "25    Pepper                164\n",
              "26    Olive                 158\n",
              "27    Bailey                157\n",
              "28    Scout                 153\n",
              "29    Leo                   150\n",
              "30    Zoe                   149\n",
              "⋮     ⋮                     ⋮  \n",
              "13901 Zou Zou               1  \n",
              "13902 Zozo                  1  \n",
              "13903 Zsa Zsa Gabor         1  \n",
              "13904 Zsa-Zsa               1  \n",
              "13905 Zsebi                 1  \n",
              "13906 Zsiga                 1  \n",
              "13907 Zsuska                1  \n",
              "13908 Zu-Zu                 1  \n",
              "13909 Zubie                 1  \n",
              "13910 Zug Zug               1  \n",
              "13911 Zuka                  1  \n",
              "13912 Zukari                1  \n",
              "13913 Zuki                  1  \n",
              "13914 Zuko Lee              1  \n",
              "13915 Zuky                  1  \n",
              "13916 Zule                  1  \n",
              "13917 Zuli                  1  \n",
              "13918 Zumi                  1  \n",
              "13919 Zuna                  1  \n",
              "13920 Zungi                 1  \n",
              "13921 Zunino                1  \n",
              "13922 Zunni                 1  \n",
              "13923 Zura                  1  \n",
              "13924 Zurie                 1  \n",
              "13925 Zusa                  1  \n",
              "13926 Zuul                  1  \n",
              "13927 ZuZu                  1  \n",
              "13928 Zuzu Petals Voortella 1  \n",
              "13929 Zydeco                1  \n",
              "13930 Zydeco Bleu           1  "
            ]
          },
          "metadata": {}
        }
      ]
    },
    {
      "cell_type": "code",
      "source": [
        "seattlepets %>% \n",
        "  group_by(species) %>%\n",
        "  count(animal_name, sort = TRUE)"
      ],
      "metadata": {
        "colab": {
          "base_uri": "https://localhost:8080/",
          "height": 1000
        },
        "id": "DR5g2hJ6xC04",
        "outputId": "1e6dd89b-8444-4fd6-bc3a-ef444968d7e1"
      },
      "execution_count": null,
      "outputs": [
        {
          "output_type": "display_data",
          "data": {
            "text/html": [
              "<table class=\"dataframe\">\n",
              "<caption>A grouped_df: 16823 × 3</caption>\n",
              "<thead>\n",
              "\t<tr><th scope=col>species</th><th scope=col>animal_name</th><th scope=col>n</th></tr>\n",
              "\t<tr><th scope=col>&lt;chr&gt;</th><th scope=col>&lt;chr&gt;</th><th scope=col>&lt;int&gt;</th></tr>\n",
              "</thead>\n",
              "<tbody>\n",
              "\t<tr><td>Cat</td><td>NA     </td><td>406</td></tr>\n",
              "\t<tr><td>Dog</td><td>Lucy   </td><td>337</td></tr>\n",
              "\t<tr><td>Dog</td><td>Charlie</td><td>306</td></tr>\n",
              "\t<tr><td>Dog</td><td>Bella  </td><td>249</td></tr>\n",
              "\t<tr><td>Dog</td><td>Luna   </td><td>244</td></tr>\n",
              "\t<tr><td>Dog</td><td>Daisy  </td><td>221</td></tr>\n",
              "\t<tr><td>Dog</td><td>Cooper </td><td>189</td></tr>\n",
              "\t<tr><td>Dog</td><td>Lola   </td><td>187</td></tr>\n",
              "\t<tr><td>Dog</td><td>Max    </td><td>186</td></tr>\n",
              "\t<tr><td>Dog</td><td>Molly  </td><td>186</td></tr>\n",
              "\t<tr><td>Dog</td><td>Stella </td><td>185</td></tr>\n",
              "\t<tr><td>Dog</td><td>Buddy  </td><td>175</td></tr>\n",
              "\t<tr><td>Dog</td><td>Jack   </td><td>167</td></tr>\n",
              "\t<tr><td>Dog</td><td>Maggie </td><td>158</td></tr>\n",
              "\t<tr><td>Dog</td><td>Penny  </td><td>153</td></tr>\n",
              "\t<tr><td>Dog</td><td>Sadie  </td><td>153</td></tr>\n",
              "\t<tr><td>Dog</td><td>Sophie </td><td>152</td></tr>\n",
              "\t<tr><td>Dog</td><td>Ruby   </td><td>150</td></tr>\n",
              "\t<tr><td>Dog</td><td>Lily   </td><td>146</td></tr>\n",
              "\t<tr><td>Dog</td><td>Rosie  </td><td>144</td></tr>\n",
              "\t<tr><td>Dog</td><td>Bailey </td><td>139</td></tr>\n",
              "\t<tr><td>Dog</td><td>Oliver </td><td>137</td></tr>\n",
              "\t<tr><td>Dog</td><td>Chloe  </td><td>134</td></tr>\n",
              "\t<tr><td>Dog</td><td>Scout  </td><td>127</td></tr>\n",
              "\t<tr><td>Dog</td><td>Coco   </td><td>122</td></tr>\n",
              "\t<tr><td>Dog</td><td>Olive  </td><td>122</td></tr>\n",
              "\t<tr><td>Dog</td><td>Milo   </td><td>120</td></tr>\n",
              "\t<tr><td>Dog</td><td>Pepper </td><td>120</td></tr>\n",
              "\t<tr><td>Dog</td><td>Henry  </td><td>119</td></tr>\n",
              "\t<tr><td>Dog</td><td>Riley  </td><td>117</td></tr>\n",
              "\t<tr><td>⋮</td><td>⋮</td><td>⋮</td></tr>\n",
              "\t<tr><td>Goat</td><td>Junebug               </td><td>1</td></tr>\n",
              "\t<tr><td>Goat</td><td>Lilac                 </td><td>1</td></tr>\n",
              "\t<tr><td>Goat</td><td>Linda                 </td><td>1</td></tr>\n",
              "\t<tr><td>Goat</td><td>Lula                  </td><td>1</td></tr>\n",
              "\t<tr><td>Goat</td><td>Magnolia              </td><td>1</td></tr>\n",
              "\t<tr><td>Goat</td><td>Margot                </td><td>1</td></tr>\n",
              "\t<tr><td>Goat</td><td>Max                   </td><td>1</td></tr>\n",
              "\t<tr><td>Goat</td><td>Moppet                </td><td>1</td></tr>\n",
              "\t<tr><td>Goat</td><td>Nani                  </td><td>1</td></tr>\n",
              "\t<tr><td>Goat</td><td>Olive                 </td><td>1</td></tr>\n",
              "\t<tr><td>Goat</td><td>Pegasis               </td><td>1</td></tr>\n",
              "\t<tr><td>Goat</td><td>Pepina                </td><td>1</td></tr>\n",
              "\t<tr><td>Goat</td><td>Phyllis               </td><td>1</td></tr>\n",
              "\t<tr><td>Goat</td><td>Piper                 </td><td>1</td></tr>\n",
              "\t<tr><td>Goat</td><td>Professor Nibblesworth</td><td>1</td></tr>\n",
              "\t<tr><td>Goat</td><td>Ramsey                </td><td>1</td></tr>\n",
              "\t<tr><td>Goat</td><td>Robuchon              </td><td>1</td></tr>\n",
              "\t<tr><td>Goat</td><td>Sassy                 </td><td>1</td></tr>\n",
              "\t<tr><td>Goat</td><td>Sister Bertrille      </td><td>1</td></tr>\n",
              "\t<tr><td>Goat</td><td>Squiggie              </td><td>1</td></tr>\n",
              "\t<tr><td>Goat</td><td>Tacoma                </td><td>1</td></tr>\n",
              "\t<tr><td>Goat</td><td>Tati                  </td><td>1</td></tr>\n",
              "\t<tr><td>Goat</td><td>Teddy                 </td><td>1</td></tr>\n",
              "\t<tr><td>Goat</td><td>Truffle               </td><td>1</td></tr>\n",
              "\t<tr><td>Pig </td><td>Atticus               </td><td>1</td></tr>\n",
              "\t<tr><td>Pig </td><td>Coconut               </td><td>1</td></tr>\n",
              "\t<tr><td>Pig </td><td>Darla                 </td><td>1</td></tr>\n",
              "\t<tr><td>Pig </td><td>Millie                </td><td>1</td></tr>\n",
              "\t<tr><td>Pig </td><td>Othello               </td><td>1</td></tr>\n",
              "\t<tr><td>Pig </td><td>NA                    </td><td>1</td></tr>\n",
              "</tbody>\n",
              "</table>\n"
            ],
            "text/markdown": "\nA grouped_df: 16823 × 3\n\n| species &lt;chr&gt; | animal_name &lt;chr&gt; | n &lt;int&gt; |\n|---|---|---|\n| Cat | NA      | 406 |\n| Dog | Lucy    | 337 |\n| Dog | Charlie | 306 |\n| Dog | Bella   | 249 |\n| Dog | Luna    | 244 |\n| Dog | Daisy   | 221 |\n| Dog | Cooper  | 189 |\n| Dog | Lola    | 187 |\n| Dog | Max     | 186 |\n| Dog | Molly   | 186 |\n| Dog | Stella  | 185 |\n| Dog | Buddy   | 175 |\n| Dog | Jack    | 167 |\n| Dog | Maggie  | 158 |\n| Dog | Penny   | 153 |\n| Dog | Sadie   | 153 |\n| Dog | Sophie  | 152 |\n| Dog | Ruby    | 150 |\n| Dog | Lily    | 146 |\n| Dog | Rosie   | 144 |\n| Dog | Bailey  | 139 |\n| Dog | Oliver  | 137 |\n| Dog | Chloe   | 134 |\n| Dog | Scout   | 127 |\n| Dog | Coco    | 122 |\n| Dog | Olive   | 122 |\n| Dog | Milo    | 120 |\n| Dog | Pepper  | 120 |\n| Dog | Henry   | 119 |\n| Dog | Riley   | 117 |\n| ⋮ | ⋮ | ⋮ |\n| Goat | Junebug                | 1 |\n| Goat | Lilac                  | 1 |\n| Goat | Linda                  | 1 |\n| Goat | Lula                   | 1 |\n| Goat | Magnolia               | 1 |\n| Goat | Margot                 | 1 |\n| Goat | Max                    | 1 |\n| Goat | Moppet                 | 1 |\n| Goat | Nani                   | 1 |\n| Goat | Olive                  | 1 |\n| Goat | Pegasis                | 1 |\n| Goat | Pepina                 | 1 |\n| Goat | Phyllis                | 1 |\n| Goat | Piper                  | 1 |\n| Goat | Professor Nibblesworth | 1 |\n| Goat | Ramsey                 | 1 |\n| Goat | Robuchon               | 1 |\n| Goat | Sassy                  | 1 |\n| Goat | Sister Bertrille       | 1 |\n| Goat | Squiggie               | 1 |\n| Goat | Tacoma                 | 1 |\n| Goat | Tati                   | 1 |\n| Goat | Teddy                  | 1 |\n| Goat | Truffle                | 1 |\n| Pig  | Atticus                | 1 |\n| Pig  | Coconut                | 1 |\n| Pig  | Darla                  | 1 |\n| Pig  | Millie                 | 1 |\n| Pig  | Othello                | 1 |\n| Pig  | NA                     | 1 |\n\n",
            "text/latex": "A grouped\\_df: 16823 × 3\n\\begin{tabular}{lll}\n species & animal\\_name & n\\\\\n <chr> & <chr> & <int>\\\\\n\\hline\n\t Cat & NA      & 406\\\\\n\t Dog & Lucy    & 337\\\\\n\t Dog & Charlie & 306\\\\\n\t Dog & Bella   & 249\\\\\n\t Dog & Luna    & 244\\\\\n\t Dog & Daisy   & 221\\\\\n\t Dog & Cooper  & 189\\\\\n\t Dog & Lola    & 187\\\\\n\t Dog & Max     & 186\\\\\n\t Dog & Molly   & 186\\\\\n\t Dog & Stella  & 185\\\\\n\t Dog & Buddy   & 175\\\\\n\t Dog & Jack    & 167\\\\\n\t Dog & Maggie  & 158\\\\\n\t Dog & Penny   & 153\\\\\n\t Dog & Sadie   & 153\\\\\n\t Dog & Sophie  & 152\\\\\n\t Dog & Ruby    & 150\\\\\n\t Dog & Lily    & 146\\\\\n\t Dog & Rosie   & 144\\\\\n\t Dog & Bailey  & 139\\\\\n\t Dog & Oliver  & 137\\\\\n\t Dog & Chloe   & 134\\\\\n\t Dog & Scout   & 127\\\\\n\t Dog & Coco    & 122\\\\\n\t Dog & Olive   & 122\\\\\n\t Dog & Milo    & 120\\\\\n\t Dog & Pepper  & 120\\\\\n\t Dog & Henry   & 119\\\\\n\t Dog & Riley   & 117\\\\\n\t ⋮ & ⋮ & ⋮\\\\\n\t Goat & Junebug                & 1\\\\\n\t Goat & Lilac                  & 1\\\\\n\t Goat & Linda                  & 1\\\\\n\t Goat & Lula                   & 1\\\\\n\t Goat & Magnolia               & 1\\\\\n\t Goat & Margot                 & 1\\\\\n\t Goat & Max                    & 1\\\\\n\t Goat & Moppet                 & 1\\\\\n\t Goat & Nani                   & 1\\\\\n\t Goat & Olive                  & 1\\\\\n\t Goat & Pegasis                & 1\\\\\n\t Goat & Pepina                 & 1\\\\\n\t Goat & Phyllis                & 1\\\\\n\t Goat & Piper                  & 1\\\\\n\t Goat & Professor Nibblesworth & 1\\\\\n\t Goat & Ramsey                 & 1\\\\\n\t Goat & Robuchon               & 1\\\\\n\t Goat & Sassy                  & 1\\\\\n\t Goat & Sister Bertrille       & 1\\\\\n\t Goat & Squiggie               & 1\\\\\n\t Goat & Tacoma                 & 1\\\\\n\t Goat & Tati                   & 1\\\\\n\t Goat & Teddy                  & 1\\\\\n\t Goat & Truffle                & 1\\\\\n\t Pig  & Atticus                & 1\\\\\n\t Pig  & Coconut                & 1\\\\\n\t Pig  & Darla                  & 1\\\\\n\t Pig  & Millie                 & 1\\\\\n\t Pig  & Othello                & 1\\\\\n\t Pig  & NA                     & 1\\\\\n\\end{tabular}\n",
            "text/plain": [
              "      species animal_name            n  \n",
              "1     Cat     NA                     406\n",
              "2     Dog     Lucy                   337\n",
              "3     Dog     Charlie                306\n",
              "4     Dog     Bella                  249\n",
              "5     Dog     Luna                   244\n",
              "6     Dog     Daisy                  221\n",
              "7     Dog     Cooper                 189\n",
              "8     Dog     Lola                   187\n",
              "9     Dog     Max                    186\n",
              "10    Dog     Molly                  186\n",
              "11    Dog     Stella                 185\n",
              "12    Dog     Buddy                  175\n",
              "13    Dog     Jack                   167\n",
              "14    Dog     Maggie                 158\n",
              "15    Dog     Penny                  153\n",
              "16    Dog     Sadie                  153\n",
              "17    Dog     Sophie                 152\n",
              "18    Dog     Ruby                   150\n",
              "19    Dog     Lily                   146\n",
              "20    Dog     Rosie                  144\n",
              "21    Dog     Bailey                 139\n",
              "22    Dog     Oliver                 137\n",
              "23    Dog     Chloe                  134\n",
              "24    Dog     Scout                  127\n",
              "25    Dog     Coco                   122\n",
              "26    Dog     Olive                  122\n",
              "27    Dog     Milo                   120\n",
              "28    Dog     Pepper                 120\n",
              "29    Dog     Henry                  119\n",
              "30    Dog     Riley                  117\n",
              "⋮     ⋮       ⋮                      ⋮  \n",
              "16794 Goat    Junebug                1  \n",
              "16795 Goat    Lilac                  1  \n",
              "16796 Goat    Linda                  1  \n",
              "16797 Goat    Lula                   1  \n",
              "16798 Goat    Magnolia               1  \n",
              "16799 Goat    Margot                 1  \n",
              "16800 Goat    Max                    1  \n",
              "16801 Goat    Moppet                 1  \n",
              "16802 Goat    Nani                   1  \n",
              "16803 Goat    Olive                  1  \n",
              "16804 Goat    Pegasis                1  \n",
              "16805 Goat    Pepina                 1  \n",
              "16806 Goat    Phyllis                1  \n",
              "16807 Goat    Piper                  1  \n",
              "16808 Goat    Professor Nibblesworth 1  \n",
              "16809 Goat    Ramsey                 1  \n",
              "16810 Goat    Robuchon               1  \n",
              "16811 Goat    Sassy                  1  \n",
              "16812 Goat    Sister Bertrille       1  \n",
              "16813 Goat    Squiggie               1  \n",
              "16814 Goat    Tacoma                 1  \n",
              "16815 Goat    Tati                   1  \n",
              "16816 Goat    Teddy                  1  \n",
              "16817 Goat    Truffle                1  \n",
              "16818 Pig     Atticus                1  \n",
              "16819 Pig     Coconut                1  \n",
              "16820 Pig     Darla                  1  \n",
              "16821 Pig     Millie                 1  \n",
              "16822 Pig     Othello                1  \n",
              "16823 Pig     NA                     1  "
            ]
          },
          "metadata": {}
        }
      ]
    },
    {
      "cell_type": "code",
      "source": [
        "install.packages(\"starwars\")"
      ],
      "metadata": {
        "colab": {
          "base_uri": "https://localhost:8080/"
        },
        "id": "2dyQZY3_2CJj",
        "outputId": "0b6c052f-f25d-4241-905a-cf0c70ecdc97"
      },
      "execution_count": null,
      "outputs": [
        {
          "output_type": "stream",
          "name": "stderr",
          "text": [
            "Installing package into ‘/usr/local/lib/R/site-library’\n",
            "(as ‘lib’ is unspecified)\n",
            "\n",
            "Warning message:\n",
            "“package ‘starwars’ is not available for this version of R\n",
            "\n",
            "A version of this package for your version of R might be available elsewhere,\n",
            "see the ideas at\n",
            "https://cran.r-project.org/doc/manuals/r-patched/R-admin.html#Installing-packages”\n"
          ]
        }
      ]
    },
    {
      "cell_type": "code",
      "source": [
        "library(openintro)"
      ],
      "metadata": {
        "colab": {
          "base_uri": "https://localhost:8080/"
        },
        "id": "xdB6DvK0uO3Y",
        "outputId": "d9e0c248-f8ca-4460-925a-d7ea88436e32"
      },
      "execution_count": null,
      "outputs": [
        {
          "output_type": "stream",
          "name": "stderr",
          "text": [
            "Loading required package: airports\n",
            "\n",
            "Loading required package: cherryblossom\n",
            "\n",
            "Loading required package: usdata\n",
            "\n"
          ]
        }
      ]
    }
  ]
}